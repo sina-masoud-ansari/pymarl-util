{
 "cells": [
  {
   "cell_type": "code",
   "execution_count": null,
   "metadata": {},
   "outputs": [],
   "source": [
    "from glob import glob\n",
    "import os\n",
    "import errno\n",
    "import pandas as pd\n",
    "import json\n",
    "import numpy as np\n",
    "\n",
    "import matplotlib.pyplot as plt\n",
    "%matplotlib inline"
   ]
  },
  {
   "cell_type": "code",
   "execution_count": null,
   "metadata": {},
   "outputs": [],
   "source": [
    "def load_json(path):\n",
    "    try:\n",
    "        with open(path, 'r') as f:\n",
    "            return json.load(f)\n",
    "    except Exception as e:\n",
    "        print(f\"Error loading JSON file {path}\")\n",
    "\n",
    "class Experiment():\n",
    "    def __init__(self, sacred_dir, max_episodes=None):\n",
    "        \n",
    "        self.path = sacred_dir\n",
    "        \n",
    "        # load run and config   \n",
    "        pinfo, prun, pconfig = [os.path.join(sacred_dir, f\"{f}.json\") for f in ['info', 'run', 'config']]\n",
    "        self.config = load_json(pconfig)\n",
    "        self.run = load_json(prun)\n",
    "        \n",
    "        # load results\n",
    "        \n",
    "        # to get around jagged arrays issue, load as json and limit each array size\n",
    "        \n",
    "        self.results = load_json(pinfo)\n",
    "        eplen = max_episodes if max_episodes else len(self.results['episode'])                 \n",
    "        \n",
    "        for r, v in self.results.items():\n",
    "            self.results[r] = v[:eplen] \n",
    "            \n",
    "        self.results = json.dumps(self.results)\n",
    "        \n",
    "        try:\n",
    "            self.results = pd.read_json(self.results, orient='columns')        \n",
    "        except Exception as e:\n",
    "            print(f\"Error loading DataFrame from {pinfo}\")\n",
    "            #print(eplen, [len(v) for k, v in self.results.items()])\n",
    "            raise(e)\n",
    "\n",
    "def summary(experiment):\n",
    "    e = experiment\n",
    "    print(f\"path: {e.path},\\tname: {e.config['name']},\\tmap: {e.config['env_args']['map_name']},\\ttest episodes: {e.config['test_nepisode']}\\ttest_interval: {e.config['test_interval']}\")\n",
    "            "
   ]
  },
  {
   "cell_type": "code",
   "execution_count": null,
   "metadata": {
    "scrolled": false
   },
   "outputs": [],
   "source": [
    "results_dir = '../../results/t/sacred'\n",
    "if not os.path.exists(results_dir):\n",
    "    raise FileNotFoundError(errno.ENOENT, os.strerror(errno.ENOENT), results_dir)\n",
    "\n",
    "# gather experiments\n",
    "max_episodes=499 # currently the length of the episode array (among others) varies\n",
    "experiments = []\n",
    "for d in glob(f\"{results_dir}/*\"):\n",
    "    if '_sources' not in d:\n",
    "        try:\n",
    "            experiments.append(Experiment(d, max_episodes))\n",
    "        except:\n",
    "            pass\n",
    "\n",
    "for e in sorted(experiments, key=lambda e: int(e.path.split(os.sep)[-1])):\n",
    "    summary(e)"
   ]
  },
  {
   "cell_type": "code",
   "execution_count": null,
   "metadata": {
    "scrolled": false
   },
   "outputs": [],
   "source": [
    "# combine results from experiments\n",
    "var = 'test_battle_won_mean'\n",
    "res = np.zeros((max_episodes, len(experiments)))\n",
    "for i, e in enumerate(experiments):\n",
    "    res[:, i] = e.results[[var]].values.flatten()\n",
    "    \n",
    "res *= 100\n",
    "median = np.median(res, axis=1)\n",
    "percentiles = np.transpose(np.percentile(res, (25, 75), axis=1))"
   ]
  },
  {
   "cell_type": "code",
   "execution_count": null,
   "metadata": {},
   "outputs": [],
   "source": [
    "# plot results\n",
    "color='C1'\n",
    "band_alpha=0.3\n",
    "line_alpha=0.6\n",
    "\n",
    "test_interval = experiments[0].config['test_interval']\n",
    "x = np.arange(res.shape[0]) * test_interval / 1e6\n",
    "\n",
    "plt.figure(figsize=(6, 3))\n",
    "plt.plot(x, median, color=color, alpha=line_alpha, label=f\"QMIX [{res.shape[1]}]\")\n",
    "plt.fill_between(x, percentiles[:, 1], percentiles[:, 0], color=color, alpha=band_alpha)\n",
    "plt.xlabel('T (mil)')\n",
    "plt.ylabel('Median Test Win %')\n",
    "plt.title('MMM')\n",
    "plt.legend(loc='lower right')\n",
    "plt.xlim((0, 10))\n",
    "plt.grid(alpha=0.2)\n",
    "plt.tight_layout()\n",
    "plt.savefig('img/results.png')"
   ]
  },
  {
   "cell_type": "code",
   "execution_count": null,
   "metadata": {},
   "outputs": [],
   "source": []
  }
 ],
 "metadata": {
  "kernelspec": {
   "display_name": "Python 3",
   "language": "python",
   "name": "python3"
  },
  "language_info": {
   "codemirror_mode": {
    "name": "ipython",
    "version": 3
   },
   "file_extension": ".py",
   "mimetype": "text/x-python",
   "name": "python",
   "nbconvert_exporter": "python",
   "pygments_lexer": "ipython3",
   "version": "3.7.3"
  }
 },
 "nbformat": 4,
 "nbformat_minor": 2
}
